{
 "cells": [
  {
   "cell_type": "code",
   "execution_count": 2,
   "metadata": {},
   "outputs": [],
   "source": [
    "import numpy as np\n",
    "import tensorflow as tf\n",
    "from keras.preprocessing.image import ImageDataGenerator"
   ]
  },
  {
   "cell_type": "code",
   "execution_count": 3,
   "metadata": {},
   "outputs": [
    {
     "data": {
      "text/plain": [
       "'2.11.0'"
      ]
     },
     "execution_count": 3,
     "metadata": {},
     "output_type": "execute_result"
    }
   ],
   "source": [
    "tf.__version__"
   ]
  },
  {
   "cell_type": "code",
   "execution_count": 4,
   "metadata": {},
   "outputs": [
    {
     "name": "stdout",
     "output_type": "stream",
     "text": [
      "Found 4317 images belonging to 5 classes.\n"
     ]
    }
   ],
   "source": [
    "train_datagen = ImageDataGenerator(\n",
    "        rescale=1./255,\n",
    "        shear_range=0.2,\n",
    "        zoom_range=0.2,\n",
    "        horizontal_flip=True)\n",
    "training_set = train_datagen.flow_from_directory(\n",
    "        'training_set',\n",
    "        target_size=(64, 64),\n",
    "        batch_size=32,\n",
    "        class_mode='categorical')"
   ]
  },
  {
   "cell_type": "code",
   "execution_count": 5,
   "metadata": {},
   "outputs": [
    {
     "name": "stdout",
     "output_type": "stream",
     "text": [
      "Found 0 images belonging to 0 classes.\n"
     ]
    }
   ],
   "source": [
    "test_datagen = ImageDataGenerator(rescale=1./255)\n",
    "test_set = test_datagen.flow_from_directory(\n",
    "        'test_set',\n",
    "        target_size=(64, 64),\n",
    "        batch_size=32,\n",
    "        class_mode='categorical')"
   ]
  },
  {
   "cell_type": "code",
   "execution_count": 6,
   "metadata": {},
   "outputs": [],
   "source": [
    "cnn = tf.keras.models.Sequential()"
   ]
  },
  {
   "cell_type": "code",
   "execution_count": 7,
   "metadata": {},
   "outputs": [],
   "source": [
    "cnn.add(tf.keras.layers.Conv2D(filters=64 , kernel_size=3 , activation='relu' , input_shape=[64,64,3]))\n",
    "cnn.add(tf.keras.layers.MaxPool2D(pool_size=2,strides=2))"
   ]
  },
  {
   "cell_type": "code",
   "execution_count": 8,
   "metadata": {},
   "outputs": [],
   "source": [
    "cnn.add(tf.keras.layers.Conv2D(filters=64 , kernel_size=3 , activation='relu' ))\n",
    "cnn.add(tf.keras.layers.MaxPool2D(pool_size=2 , strides=2))"
   ]
  },
  {
   "cell_type": "code",
   "execution_count": 9,
   "metadata": {},
   "outputs": [],
   "source": [
    "cnn.add(tf.keras.layers.Dropout(0.5))"
   ]
  },
  {
   "cell_type": "code",
   "execution_count": 10,
   "metadata": {},
   "outputs": [],
   "source": [
    "cnn.add(tf.keras.layers.Flatten())"
   ]
  },
  {
   "cell_type": "code",
   "execution_count": 11,
   "metadata": {},
   "outputs": [],
   "source": [
    "cnn.add(tf.keras.layers.Dense(units=128, activation='relu'))"
   ]
  },
  {
   "cell_type": "code",
   "execution_count": 12,
   "metadata": {},
   "outputs": [],
   "source": [
    "cnn.add(tf.keras.layers.Dense(units=5 , activation='softmax'))"
   ]
  },
  {
   "cell_type": "code",
   "execution_count": 13,
   "metadata": {},
   "outputs": [],
   "source": [
    "cnn.compile(optimizer = 'rmsprop' , loss = 'categorical_crossentropy' , metrics = ['accuracy'])"
   ]
  },
  {
   "cell_type": "code",
   "execution_count": 14,
   "metadata": {
    "scrolled": false
   },
   "outputs": [
    {
     "name": "stdout",
     "output_type": "stream",
     "text": [
      "Epoch 1/30\n",
      "135/135 [==============================] - 34s 249ms/step - loss: 1.3384 - accuracy: 0.4373\n",
      "Epoch 2/30\n",
      "135/135 [==============================] - 18s 131ms/step - loss: 1.0907 - accuracy: 0.5666\n",
      "Epoch 3/30\n",
      "135/135 [==============================] - 18s 131ms/step - loss: 0.9694 - accuracy: 0.6233\n",
      "Epoch 4/30\n",
      "135/135 [==============================] - 17s 124ms/step - loss: 0.8999 - accuracy: 0.6474\n",
      "Epoch 5/30\n",
      "135/135 [==============================] - 18s 134ms/step - loss: 0.8416 - accuracy: 0.6637\n",
      "Epoch 6/30\n",
      "135/135 [==============================] - 18s 135ms/step - loss: 0.8084 - accuracy: 0.6836\n",
      "Epoch 7/30\n",
      "135/135 [==============================] - 17s 128ms/step - loss: 0.7675 - accuracy: 0.7070\n",
      "Epoch 8/30\n",
      "135/135 [==============================] - 17s 129ms/step - loss: 0.7331 - accuracy: 0.7100\n",
      "Epoch 9/30\n",
      "135/135 [==============================] - 19s 142ms/step - loss: 0.7126 - accuracy: 0.7262\n",
      "Epoch 10/30\n",
      "135/135 [==============================] - 18s 136ms/step - loss: 0.6867 - accuracy: 0.7413\n",
      "Epoch 11/30\n",
      "135/135 [==============================] - 18s 136ms/step - loss: 0.6687 - accuracy: 0.7420\n",
      "Epoch 12/30\n",
      "135/135 [==============================] - 19s 141ms/step - loss: 0.6553 - accuracy: 0.7510\n",
      "Epoch 13/30\n",
      "135/135 [==============================] - 18s 135ms/step - loss: 0.6150 - accuracy: 0.7665\n",
      "Epoch 14/30\n",
      "135/135 [==============================] - 18s 134ms/step - loss: 0.5942 - accuracy: 0.7753\n",
      "Epoch 15/30\n",
      "135/135 [==============================] - 18s 132ms/step - loss: 0.5840 - accuracy: 0.7762\n",
      "Epoch 16/30\n",
      "135/135 [==============================] - 18s 135ms/step - loss: 0.5531 - accuracy: 0.7864\n",
      "Epoch 17/30\n",
      "135/135 [==============================] - 19s 138ms/step - loss: 0.5410 - accuracy: 0.7948\n",
      "Epoch 18/30\n",
      "135/135 [==============================] - 18s 134ms/step - loss: 0.5252 - accuracy: 0.8043\n",
      "Epoch 19/30\n",
      "135/135 [==============================] - 19s 139ms/step - loss: 0.5127 - accuracy: 0.8098\n",
      "Epoch 20/30\n",
      "135/135 [==============================] - 20s 145ms/step - loss: 0.4786 - accuracy: 0.8253\n",
      "Epoch 21/30\n",
      "135/135 [==============================] - 19s 143ms/step - loss: 0.4850 - accuracy: 0.8200\n",
      "Epoch 22/30\n",
      "135/135 [==============================] - 19s 139ms/step - loss: 0.4656 - accuracy: 0.8219\n",
      "Epoch 23/30\n",
      "135/135 [==============================] - 18s 135ms/step - loss: 0.4381 - accuracy: 0.8355\n",
      "Epoch 24/30\n",
      "135/135 [==============================] - 19s 137ms/step - loss: 0.4255 - accuracy: 0.8427\n",
      "Epoch 25/30\n",
      "135/135 [==============================] - 18s 130ms/step - loss: 0.4343 - accuracy: 0.8420\n",
      "Epoch 26/30\n",
      "135/135 [==============================] - 18s 134ms/step - loss: 0.4125 - accuracy: 0.8529\n",
      "Epoch 27/30\n",
      "135/135 [==============================] - 18s 131ms/step - loss: 0.4014 - accuracy: 0.8499\n",
      "Epoch 28/30\n",
      "135/135 [==============================] - 17s 124ms/step - loss: 0.3972 - accuracy: 0.8578\n",
      "Epoch 29/30\n",
      "135/135 [==============================] - 17s 124ms/step - loss: 0.3882 - accuracy: 0.8631\n",
      "Epoch 30/30\n",
      "135/135 [==============================] - 17s 125ms/step - loss: 0.3497 - accuracy: 0.8758\n"
     ]
    },
    {
     "data": {
      "text/plain": [
       "<keras.callbacks.History at 0x25531e13340>"
      ]
     },
     "execution_count": 14,
     "metadata": {},
     "output_type": "execute_result"
    }
   ],
   "source": [
    "cnn.fit(x = training_set , validation_data = test_set , epochs = 30)"
   ]
  },
  {
   "cell_type": "code",
   "execution_count": 35,
   "metadata": {},
   "outputs": [
    {
     "name": "stdout",
     "output_type": "stream",
     "text": [
      "1/1 [==============================] - 0s 18ms/step\n"
     ]
    },
    {
     "data": {
      "text/plain": [
       "{'daisy': 0, 'dandelion': 1, 'rose': 2, 'sunflower': 3, 'tulip': 4}"
      ]
     },
     "execution_count": 35,
     "metadata": {},
     "output_type": "execute_result"
    }
   ],
   "source": [
    "from tensorflow.keras.preprocessing import image\n",
    "test_image = image.load_img('Prediction/rose.jpg',target_size=(64,64))\n",
    "test_image_view = test_image\n",
    "test_image.show()\n",
    "test_image = image.img_to_array(test_image)\n",
    "test_image = np.expand_dims(test_image,axis=0)\n",
    "result = cnn.predict(test_image)\n",
    "training_set.class_indices"
   ]
  },
  {
   "cell_type": "code",
   "execution_count": null,
   "metadata": {},
   "outputs": [],
   "source": [
    "test_image_view.show()\n",
    "if result[0][0]==1:\n",
    "    print('Daisy')\n",
    "elif result[0][1]==1:\n",
    "    print('Dandelion')\n",
    "elif result[0][2]==1:\n",
    "    print('Rose')\n",
    "elif result[0][3]==1:\n",
    "    print('SunFlower')\n",
    "elif result[0][4]==1:\n",
    "    print(\"Tulip\")"
   ]
  },
  {
   "cell_type": "code",
   "execution_count": 19,
   "metadata": {},
   "outputs": [
    {
     "name": "stdout",
     "output_type": "stream",
     "text": [
      "[[1. 0. 0. 0. 0.]]\n"
     ]
    }
   ],
   "source": [
    "print(result)"
   ]
  }
 ],
 "metadata": {
  "kernelspec": {
   "display_name": "Python 3 (ipykernel)",
   "language": "python",
   "name": "python3"
  },
  "language_info": {
   "codemirror_mode": {
    "name": "ipython",
    "version": 3
   },
   "file_extension": ".py",
   "mimetype": "text/x-python",
   "name": "python",
   "nbconvert_exporter": "python",
   "pygments_lexer": "ipython3",
   "version": "3.9.13"
  }
 },
 "nbformat": 4,
 "nbformat_minor": 4
}
