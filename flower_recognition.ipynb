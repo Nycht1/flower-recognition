{
  "cells": [
    {
      "cell_type": "code",
      "source": [
        "!pip install kaggle"
      ],
      "metadata": {
        "colab": {
          "base_uri": "https://localhost:8080/"
        },
        "id": "Nhz4yH4L9975",
        "outputId": "c87572c2-1ef2-4860-a455-41b89da3f69f"
      },
      "execution_count": 1,
      "outputs": [
        {
          "output_type": "stream",
          "name": "stdout",
          "text": [
            "Looking in indexes: https://pypi.org/simple, https://us-python.pkg.dev/colab-wheels/public/simple/\n",
            "Requirement already satisfied: kaggle in /usr/local/lib/python3.8/dist-packages (1.5.12)\n",
            "Requirement already satisfied: python-dateutil in /usr/local/lib/python3.8/dist-packages (from kaggle) (2.8.2)\n",
            "Requirement already satisfied: six>=1.10 in /usr/local/lib/python3.8/dist-packages (from kaggle) (1.15.0)\n",
            "Requirement already satisfied: urllib3 in /usr/local/lib/python3.8/dist-packages (from kaggle) (1.24.3)\n",
            "Requirement already satisfied: python-slugify in /usr/local/lib/python3.8/dist-packages (from kaggle) (7.0.0)\n",
            "Requirement already satisfied: certifi in /usr/local/lib/python3.8/dist-packages (from kaggle) (2022.12.7)\n",
            "Requirement already satisfied: tqdm in /usr/local/lib/python3.8/dist-packages (from kaggle) (4.64.1)\n",
            "Requirement already satisfied: requests in /usr/local/lib/python3.8/dist-packages (from kaggle) (2.23.0)\n",
            "Requirement already satisfied: text-unidecode>=1.3 in /usr/local/lib/python3.8/dist-packages (from python-slugify->kaggle) (1.3)\n",
            "Requirement already satisfied: chardet<4,>=3.0.2 in /usr/local/lib/python3.8/dist-packages (from requests->kaggle) (3.0.4)\n",
            "Requirement already satisfied: idna<3,>=2.5 in /usr/local/lib/python3.8/dist-packages (from requests->kaggle) (2.10)\n"
          ]
        }
      ]
    },
    {
      "cell_type": "code",
      "execution_count": 2,
      "metadata": {
        "id": "wlEH42kfR1kS"
      },
      "outputs": [],
      "source": [
        "import numpy as np\n",
        "import tensorflow as tf\n",
        "from keras.preprocessing.image import ImageDataGenerator"
      ]
    },
    {
      "cell_type": "code",
      "source": [
        "!chmod 600 /content/kaggle.json"
      ],
      "metadata": {
        "id": "eIkA4-VX979Y"
      },
      "execution_count": 5,
      "outputs": []
    },
    {
      "cell_type": "code",
      "source": [
        "! KAGGLE_CONFIG_DIR=/content/ kaggle datasets download -d alxmamaev/flowers-recognition"
      ],
      "metadata": {
        "colab": {
          "base_uri": "https://localhost:8080/"
        },
        "id": "73Cf02el-gmj",
        "outputId": "fa3751b8-b209-4ac2-9b82-08d1fa86cd6a"
      },
      "execution_count": 6,
      "outputs": [
        {
          "output_type": "stream",
          "name": "stdout",
          "text": [
            "Downloading flowers-recognition.zip to /content\n",
            " 97% 218M/225M [00:01<00:00, 178MB/s]\n",
            "100% 225M/225M [00:01<00:00, 173MB/s]\n"
          ]
        }
      ]
    },
    {
      "cell_type": "code",
      "source": [
        "import zipfile\n",
        "zip_file = zipfile.ZipFile('/content/flowers-recognition.zip', 'r')\n",
        "zip_file.extractall('/tmp')"
      ],
      "metadata": {
        "id": "bxGDfr7WBoI8"
      },
      "execution_count": 7,
      "outputs": []
    },
    {
      "cell_type": "code",
      "execution_count": 3,
      "metadata": {
        "colab": {
          "base_uri": "https://localhost:8080/",
          "height": 35
        },
        "id": "A83rFpoSR1kU",
        "outputId": "e96f546f-96ed-45af-be59-048a96a5f7e4"
      },
      "outputs": [
        {
          "output_type": "execute_result",
          "data": {
            "text/plain": [
              "'2.9.2'"
            ],
            "application/vnd.google.colaboratory.intrinsic+json": {
              "type": "string"
            }
          },
          "metadata": {},
          "execution_count": 3
        }
      ],
      "source": [
        "tf.__version__"
      ]
    },
    {
      "cell_type": "code",
      "execution_count": 11,
      "metadata": {
        "colab": {
          "base_uri": "https://localhost:8080/"
        },
        "id": "y7jGpy90R1kV",
        "outputId": "d38dc814-20fc-43ab-d226-c902ce8ce2b1"
      },
      "outputs": [
        {
          "output_type": "stream",
          "name": "stdout",
          "text": [
            "Found 4317 images belonging to 5 classes.\n"
          ]
        }
      ],
      "source": [
        "train_datagen = ImageDataGenerator(\n",
        "        rescale=1./255,\n",
        "        shear_range=0.2,\n",
        "        zoom_range=0.2,\n",
        "        horizontal_flip=True)\n",
        "training_set = train_datagen.flow_from_directory(\n",
        "        '/tmp/flowers',\n",
        "        target_size=(64, 64),\n",
        "        batch_size=32,\n",
        "        class_mode='categorical')"
      ]
    },
    {
      "cell_type": "code",
      "source": [
        "# from google.colab import drive\n",
        "# drive.mount('/content/drive')"
      ],
      "metadata": {
        "id": "CnV0qUtmW75N"
      },
      "execution_count": 12,
      "outputs": []
    },
    {
      "cell_type": "code",
      "execution_count": 15,
      "metadata": {
        "colab": {
          "base_uri": "https://localhost:8080/"
        },
        "id": "TabbAa3VR1kW",
        "outputId": "85becf01-22b5-4d01-daee-0af7e6aa52fb"
      },
      "outputs": [
        {
          "output_type": "stream",
          "name": "stdout",
          "text": [
            "Found 0 images belonging to 0 classes.\n"
          ]
        }
      ],
      "source": [
        "test_datagen = ImageDataGenerator(rescale=1./255)\n",
        "test_set = test_datagen.flow_from_directory(\n",
        "        'test_set',\n",
        "        target_size=(64, 64),\n",
        "        batch_size=32,\n",
        "        class_mode='categorical')"
      ]
    },
    {
      "cell_type": "code",
      "execution_count": 16,
      "metadata": {
        "id": "8Gm1sjfaR1kW"
      },
      "outputs": [],
      "source": [
        "cnn = tf.keras.models.Sequential()"
      ]
    },
    {
      "cell_type": "code",
      "execution_count": 17,
      "metadata": {
        "id": "rtOTAsoGR1kW"
      },
      "outputs": [],
      "source": [
        "cnn.add(tf.keras.layers.Conv2D(filters=64 , kernel_size=3 , activation='relu' , input_shape=[64,64,3]))\n",
        "cnn.add(tf.keras.layers.MaxPool2D(pool_size=2,strides=2))"
      ]
    },
    {
      "cell_type": "code",
      "execution_count": 18,
      "metadata": {
        "id": "EUcDHKWDR1kX"
      },
      "outputs": [],
      "source": [
        "cnn.add(tf.keras.layers.Conv2D(filters=64 , kernel_size=3 , activation='relu' ))\n",
        "cnn.add(tf.keras.layers.MaxPool2D(pool_size=2 , strides=2))"
      ]
    },
    {
      "cell_type": "code",
      "execution_count": 19,
      "metadata": {
        "id": "Msy2vGbOR1kX"
      },
      "outputs": [],
      "source": [
        "cnn.add(tf.keras.layers.Dropout(0.5))"
      ]
    },
    {
      "cell_type": "code",
      "execution_count": 20,
      "metadata": {
        "id": "y9RsdvrhR1kX"
      },
      "outputs": [],
      "source": [
        "cnn.add(tf.keras.layers.Flatten())"
      ]
    },
    {
      "cell_type": "code",
      "execution_count": 21,
      "metadata": {
        "id": "pQ4kf46uR1kY"
      },
      "outputs": [],
      "source": [
        "cnn.add(tf.keras.layers.Dense(units=128, activation='relu'))"
      ]
    },
    {
      "cell_type": "code",
      "execution_count": 22,
      "metadata": {
        "id": "qaynFOEqR1kY"
      },
      "outputs": [],
      "source": [
        "cnn.add(tf.keras.layers.Dense(units=5 , activation='softmax'))"
      ]
    },
    {
      "cell_type": "code",
      "execution_count": 23,
      "metadata": {
        "id": "bI3Wee04R1kY"
      },
      "outputs": [],
      "source": [
        "cnn.compile(optimizer = 'rmsprop' , loss = 'categorical_crossentropy' , metrics = ['accuracy'])"
      ]
    },
    {
      "cell_type": "code",
      "execution_count": 24,
      "metadata": {
        "scrolled": false,
        "colab": {
          "base_uri": "https://localhost:8080/"
        },
        "id": "RBLhKShuR1kY",
        "outputId": "7270999e-a2d3-4a8f-c111-2b24c609d5cb"
      },
      "outputs": [
        {
          "output_type": "stream",
          "name": "stdout",
          "text": [
            "Epoch 1/30\n",
            "135/135 [==============================] - 56s 399ms/step - loss: 1.3506 - accuracy: 0.4309\n",
            "Epoch 2/30\n",
            "135/135 [==============================] - 55s 405ms/step - loss: 1.0710 - accuracy: 0.5756\n",
            "Epoch 3/30\n",
            "135/135 [==============================] - 53s 390ms/step - loss: 0.9809 - accuracy: 0.6199\n",
            "Epoch 4/30\n",
            "135/135 [==============================] - 53s 390ms/step - loss: 0.9088 - accuracy: 0.6444\n",
            "Epoch 5/30\n",
            "135/135 [==============================] - 54s 398ms/step - loss: 0.8501 - accuracy: 0.6722\n",
            "Epoch 6/30\n",
            "135/135 [==============================] - 52s 382ms/step - loss: 0.8066 - accuracy: 0.6908\n",
            "Epoch 7/30\n",
            "135/135 [==============================] - 52s 381ms/step - loss: 0.7733 - accuracy: 0.7058\n",
            "Epoch 8/30\n",
            "135/135 [==============================] - 52s 381ms/step - loss: 0.7444 - accuracy: 0.7209\n",
            "Epoch 9/30\n",
            "135/135 [==============================] - 52s 387ms/step - loss: 0.7199 - accuracy: 0.7343\n",
            "Epoch 10/30\n",
            "135/135 [==============================] - 53s 391ms/step - loss: 0.6967 - accuracy: 0.7392\n",
            "Epoch 11/30\n",
            "135/135 [==============================] - 52s 387ms/step - loss: 0.6818 - accuracy: 0.7431\n",
            "Epoch 12/30\n",
            "135/135 [==============================] - 52s 385ms/step - loss: 0.6477 - accuracy: 0.7540\n",
            "Epoch 13/30\n",
            "135/135 [==============================] - 54s 401ms/step - loss: 0.6359 - accuracy: 0.7721\n",
            "Epoch 14/30\n",
            "135/135 [==============================] - 53s 388ms/step - loss: 0.6270 - accuracy: 0.7691\n",
            "Epoch 15/30\n",
            "135/135 [==============================] - 53s 389ms/step - loss: 0.6068 - accuracy: 0.7753\n",
            "Epoch 16/30\n",
            "135/135 [==============================] - 52s 385ms/step - loss: 0.5929 - accuracy: 0.7760\n",
            "Epoch 17/30\n",
            "135/135 [==============================] - 52s 384ms/step - loss: 0.5788 - accuracy: 0.7850\n",
            "Epoch 18/30\n",
            "135/135 [==============================] - 54s 399ms/step - loss: 0.5544 - accuracy: 0.7978\n",
            "Epoch 19/30\n",
            "135/135 [==============================] - 53s 390ms/step - loss: 0.5307 - accuracy: 0.8047\n",
            "Epoch 20/30\n",
            "135/135 [==============================] - 52s 387ms/step - loss: 0.5372 - accuracy: 0.8031\n",
            "Epoch 21/30\n",
            "135/135 [==============================] - 52s 387ms/step - loss: 0.5175 - accuracy: 0.8161\n",
            "Epoch 22/30\n",
            "135/135 [==============================] - 54s 397ms/step - loss: 0.5201 - accuracy: 0.8091\n",
            "Epoch 23/30\n",
            "135/135 [==============================] - 52s 387ms/step - loss: 0.5069 - accuracy: 0.8163\n",
            "Epoch 24/30\n",
            "135/135 [==============================] - 53s 389ms/step - loss: 0.4941 - accuracy: 0.8205\n",
            "Epoch 25/30\n",
            "135/135 [==============================] - 52s 388ms/step - loss: 0.4784 - accuracy: 0.8233\n",
            "Epoch 26/30\n",
            "135/135 [==============================] - 53s 389ms/step - loss: 0.4774 - accuracy: 0.8277\n",
            "Epoch 27/30\n",
            "135/135 [==============================] - 53s 393ms/step - loss: 0.4604 - accuracy: 0.8332\n",
            "Epoch 28/30\n",
            "135/135 [==============================] - 53s 389ms/step - loss: 0.4531 - accuracy: 0.8388\n",
            "Epoch 29/30\n",
            "135/135 [==============================] - 53s 391ms/step - loss: 0.4572 - accuracy: 0.8330\n",
            "Epoch 30/30\n",
            "135/135 [==============================] - 54s 399ms/step - loss: 0.4358 - accuracy: 0.8416\n"
          ]
        },
        {
          "output_type": "execute_result",
          "data": {
            "text/plain": [
              "<keras.callbacks.History at 0x7f9962ccddc0>"
            ]
          },
          "metadata": {},
          "execution_count": 24
        }
      ],
      "source": [
        "cnn.fit(x = training_set , validation_data = test_set , epochs = 30)"
      ]
    },
    {
      "cell_type": "code",
      "execution_count": 32,
      "metadata": {
        "colab": {
          "base_uri": "https://localhost:8080/"
        },
        "id": "sOZlq3ceR1kZ",
        "outputId": "5a238d56-0ec3-4194-fbda-496880a8a1d2"
      },
      "outputs": [
        {
          "output_type": "stream",
          "name": "stdout",
          "text": [
            "1/1 [==============================] - 0s 22ms/step\n"
          ]
        },
        {
          "output_type": "execute_result",
          "data": {
            "text/plain": [
              "{'daisy': 0, 'dandelion': 1, 'rose': 2, 'sunflower': 3, 'tulip': 4}"
            ]
          },
          "metadata": {},
          "execution_count": 32
        }
      ],
      "source": [
        "from tensorflow.keras.preprocessing import image\n",
        "test_image = image.load_img('prediction/daisy.jpg',target_size=(64,64))\n",
        "test_image_view = test_image\n",
        "test_image = image.img_to_array(test_image)\n",
        "test_image = np.expand_dims(test_image,axis=0)\n",
        "result = cnn.predict(test_image)\n",
        "training_set.class_indices"
      ]
    },
    {
      "cell_type": "code",
      "execution_count": 35,
      "metadata": {
        "colab": {
          "base_uri": "https://localhost:8080/"
        },
        "id": "ufoF-P07R1kZ",
        "outputId": "4103db23-f7d9-48d5-fe58-735da6f78e0b"
      },
      "outputs": [
        {
          "output_type": "stream",
          "name": "stdout",
          "text": [
            "Daisy\n"
          ]
        }
      ],
      "source": [
        "test_image_view.show()\n",
        "if result[0][0]==1:\n",
        "    print('Daisy')\n",
        "elif result[0][1]==1:\n",
        "    print('Dandelion')\n",
        "elif result[0][2]==1:\n",
        "    print('Rose')\n",
        "elif result[0][3]==1:\n",
        "    print('SunFlower')\n",
        "elif result[0][4]==1:\n",
        "    print(\"Tulip\")"
      ]
    },
    {
      "cell_type": "code",
      "execution_count": 34,
      "metadata": {
        "colab": {
          "base_uri": "https://localhost:8080/"
        },
        "id": "zHMjtrk0R1kZ",
        "outputId": "cd2a1d88-0ee9-41d4-f77b-a913d02deafe"
      },
      "outputs": [
        {
          "output_type": "stream",
          "name": "stdout",
          "text": [
            "[[1. 0. 0. 0. 0.]]\n"
          ]
        }
      ],
      "source": [
        "print(result)"
      ]
    },
    {
      "cell_type": "code",
      "execution_count": 34,
      "metadata": {
        "id": "g0N5YQCRR1kZ"
      },
      "outputs": [],
      "source": []
    }
  ],
  "metadata": {
    "kernelspec": {
      "display_name": "Python 3",
      "language": "python",
      "name": "python3"
    },
    "language_info": {
      "codemirror_mode": {
        "name": "ipython",
        "version": 3
      },
      "file_extension": ".py",
      "mimetype": "text/x-python",
      "name": "python",
      "nbconvert_exporter": "python",
      "pygments_lexer": "ipython3",
      "version": "3.8.5"
    },
    "colab": {
      "provenance": []
    }
  },
  "nbformat": 4,
  "nbformat_minor": 0
}